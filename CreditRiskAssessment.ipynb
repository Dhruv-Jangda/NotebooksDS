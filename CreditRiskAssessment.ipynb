{
 "cells": [
  {
   "cell_type": "markdown",
   "source": [
    "# Overview"
   ],
   "metadata": {}
  },
  {
   "cell_type": "markdown",
   "source": [
    "## Problem Statement"
   ],
   "metadata": {}
  },
  {
   "cell_type": "markdown",
   "source": [
    "Design an algortihm to provide real time prediction of loan status to be approved for an applicant thereby preventing cases that are probable to get defaulted."
   ],
   "metadata": {}
  },
  {
   "cell_type": "markdown",
   "source": [
    "## Analysis"
   ],
   "metadata": {}
  },
  {
   "cell_type": "markdown",
   "source": [
    "* Classic binary classification problem.\r\n",
    "* Emphasis is on:\r\n",
    "    * Accuracy - We need to have the best possible accuracy\r\n",
    "    * Precision - We need to avoid cases where the algorithm mis-classifies some of the cases where loan was not approved i.e. False Positives."
   ],
   "metadata": {}
  },
  {
   "cell_type": "markdown",
   "source": [
    "## Alternate Emphasis"
   ],
   "metadata": {}
  },
  {
   "cell_type": "markdown",
   "source": [
    "As per *Confusion Matrix* for a Binary Classification problem:\r\n",
    "* Precision = $\\frac{TP}{TP+FP}$\r\n",
    "* Recall = $\\frac{TP}{TP+FN}$\r\n",
    "* Accuracy = $\\frac{TP+TN}{TP+FP+FN+TN}$\r\n",
    "\r\n",
    "where:\r\n",
    "* TP - True Positive\r\n",
    "* FP - False Positive\r\n",
    "* FN - False Negative\r\n",
    "* TN - True Negative"
   ],
   "metadata": {}
  },
  {
   "cell_type": "markdown",
   "source": [
    "In the given problem, we require to emphasisize more on saving the losses to be beared without compromising on potential customers to lend them the loan. In other words, we need to emphasize more on FP without compromising FN.\r\n",
    "\r\n",
    "Ideally when FP and FN both reduce the *Accuracy* will eventually increase. Hence, along with considering *Precision* as one of the metric, rather than considering *Accuracy* as another we can give more importance to *Recall*. Combining both *Precision* and *Recall* we have *F-Score*:\r\n",
    "* F-Score = $\\frac{(1+\\beta^2)\\times Precision \\times Recall}{\\beta^2 \\times Precision + Recall}$\r\n",
    "\r\n",
    "To put more emphasis on *Precision* we need to keep $\\beta<1$. So, it would make more sense to tune our algorithm based on this score."
   ],
   "metadata": {}
  },
  {
   "cell_type": "markdown",
   "source": [
    "## Solution"
   ],
   "metadata": {}
  },
  {
   "cell_type": "markdown",
   "source": [
    "* Data Preprocessing:\r\n",
    "    * Removing or Imputing Nulls\r\n",
    "    * Removing Outliers\r\n",
    "    * Labelling categorical features\r\n",
    "* Data distribution to Train and Test sets\r\n",
    "* Build and Train a Classifier.\r\n",
    "* Tune its hyperparameters over Precision and Accuracy using Cross-Validation technique. This may involve trying different classification models or may be combining some in an Ensembled learning format.\r\n",
    "* Finally test it and try indulge some regularization to reduce Variance and Bias."
   ],
   "metadata": {}
  },
  {
   "cell_type": "markdown",
   "source": [
    "# Solution"
   ],
   "metadata": {}
  },
  {
   "cell_type": "markdown",
   "source": [
    "## Load Data"
   ],
   "metadata": {}
  },
  {
   "cell_type": "markdown",
   "source": [
    "### Fetch"
   ],
   "metadata": {}
  },
  {
   "cell_type": "code",
   "execution_count": 112,
   "source": [
    "from pandas import read_excel\r\n",
    "from matplotlib import pyplot\r\n",
    "%matplotlib inline\r\n",
    "\r\n",
    "orig_data = read_excel(\".\\\\data set.xlsx\")\r\n",
    "orig_data = orig_data.iloc[:,1:]\r\n",
    "orig_data.head()"
   ],
   "outputs": [
    {
     "output_type": "stream",
     "name": "stderr",
     "text": [
      "C:\\Users\\THUNDE~1\\AppData\\Local\\Temp/ipykernel_14356/1198623984.py:5: FutureWarning: Your version of xlrd is 1.2.0. In xlrd >= 2.0, only the xls format is supported. As a result, the openpyxl engine will be used if it is installed and the engine argument is not specified. Install openpyxl instead.\n",
      "  orig_data = read_excel(\".\\\\data set.xlsx\")\n"
     ]
    },
    {
     "output_type": "execute_result",
     "data": {
      "text/html": [
       "<div>\n",
       "<style scoped>\n",
       "    .dataframe tbody tr th:only-of-type {\n",
       "        vertical-align: middle;\n",
       "    }\n",
       "\n",
       "    .dataframe tbody tr th {\n",
       "        vertical-align: top;\n",
       "    }\n",
       "\n",
       "    .dataframe thead th {\n",
       "        text-align: right;\n",
       "    }\n",
       "</style>\n",
       "<table border=\"1\" class=\"dataframe\">\n",
       "  <thead>\n",
       "    <tr style=\"text-align: right;\">\n",
       "      <th></th>\n",
       "      <th>Loan_ID</th>\n",
       "      <th>Gender</th>\n",
       "      <th>Married</th>\n",
       "      <th>Dependents</th>\n",
       "      <th>Education</th>\n",
       "      <th>Self_Employed</th>\n",
       "      <th>ApplicantIncome</th>\n",
       "      <th>CoapplicantIncome</th>\n",
       "      <th>Loamount</th>\n",
       "      <th>Loan_Amount_Term</th>\n",
       "      <th>Credit_History</th>\n",
       "      <th>Property_Area</th>\n",
       "      <th>Loan_Status</th>\n",
       "    </tr>\n",
       "  </thead>\n",
       "  <tbody>\n",
       "    <tr>\n",
       "      <th>0</th>\n",
       "      <td>SM001</td>\n",
       "      <td>Male</td>\n",
       "      <td>No</td>\n",
       "      <td>0</td>\n",
       "      <td>Graduate</td>\n",
       "      <td>No</td>\n",
       "      <td>5849</td>\n",
       "      <td>0.0</td>\n",
       "      <td>NaN</td>\n",
       "      <td>360</td>\n",
       "      <td>1</td>\n",
       "      <td>Urban</td>\n",
       "      <td>Y</td>\n",
       "    </tr>\n",
       "    <tr>\n",
       "      <th>1</th>\n",
       "      <td>SM002</td>\n",
       "      <td>Male</td>\n",
       "      <td>Yes</td>\n",
       "      <td>1</td>\n",
       "      <td>Graduate</td>\n",
       "      <td>No</td>\n",
       "      <td>4583</td>\n",
       "      <td>1508.0</td>\n",
       "      <td>128.0</td>\n",
       "      <td>360</td>\n",
       "      <td>1</td>\n",
       "      <td>Rural</td>\n",
       "      <td>N</td>\n",
       "    </tr>\n",
       "    <tr>\n",
       "      <th>2</th>\n",
       "      <td>SM003</td>\n",
       "      <td>Male</td>\n",
       "      <td>Yes</td>\n",
       "      <td>0</td>\n",
       "      <td>Graduate</td>\n",
       "      <td>Yes</td>\n",
       "      <td>3000</td>\n",
       "      <td>0.0</td>\n",
       "      <td>66.0</td>\n",
       "      <td>360</td>\n",
       "      <td>1</td>\n",
       "      <td>Urban</td>\n",
       "      <td>Y</td>\n",
       "    </tr>\n",
       "    <tr>\n",
       "      <th>3</th>\n",
       "      <td>SM004</td>\n",
       "      <td>Male</td>\n",
       "      <td>Yes</td>\n",
       "      <td>0</td>\n",
       "      <td>Not Graduate</td>\n",
       "      <td>No</td>\n",
       "      <td>2583</td>\n",
       "      <td>2358.0</td>\n",
       "      <td>120.0</td>\n",
       "      <td>360</td>\n",
       "      <td>1</td>\n",
       "      <td>Urban</td>\n",
       "      <td>Y</td>\n",
       "    </tr>\n",
       "    <tr>\n",
       "      <th>4</th>\n",
       "      <td>SM005</td>\n",
       "      <td>Male</td>\n",
       "      <td>No</td>\n",
       "      <td>0</td>\n",
       "      <td>Graduate</td>\n",
       "      <td>No</td>\n",
       "      <td>6000</td>\n",
       "      <td>0.0</td>\n",
       "      <td>141.0</td>\n",
       "      <td>360</td>\n",
       "      <td>1</td>\n",
       "      <td>Urban</td>\n",
       "      <td>Y</td>\n",
       "    </tr>\n",
       "  </tbody>\n",
       "</table>\n",
       "</div>"
      ],
      "text/plain": [
       "  Loan_ID Gender Married Dependents     Education Self_Employed  \\\n",
       "0   SM001   Male      No          0      Graduate            No   \n",
       "1   SM002   Male     Yes          1      Graduate            No   \n",
       "2   SM003   Male     Yes          0      Graduate           Yes   \n",
       "3   SM004   Male     Yes          0  Not Graduate            No   \n",
       "4   SM005   Male      No          0      Graduate            No   \n",
       "\n",
       "   ApplicantIncome  CoapplicantIncome  Loamount  Loan_Amount_Term  \\\n",
       "0             5849                0.0       NaN               360   \n",
       "1             4583             1508.0     128.0               360   \n",
       "2             3000                0.0      66.0               360   \n",
       "3             2583             2358.0     120.0               360   \n",
       "4             6000                0.0     141.0               360   \n",
       "\n",
       "   Credit_History Property_Area Loan_Status  \n",
       "0               1         Urban           Y  \n",
       "1               1         Rural           N  \n",
       "2               1         Urban           Y  \n",
       "3               1         Urban           Y  \n",
       "4               1         Urban           Y  "
      ]
     },
     "metadata": {},
     "execution_count": 112
    }
   ],
   "metadata": {}
  },
  {
   "cell_type": "markdown",
   "source": [
    "### Explore"
   ],
   "metadata": {}
  },
  {
   "cell_type": "code",
   "execution_count": 113,
   "source": [
    "orig_data.info()\r\n",
    "class DataColumns:\r\n",
    "    continuous = [\"ApplicantIncome\", \"CoapplicantIncome\", \"Loamount\", \"Loan_Amount_Term\"]\r\n",
    "    categorical = [\"Gender\", \"Married\", \"Dependents\", \"Education\", \"Self_Employed\", \"Credit_History\", \"Property_Area\"]\r\n",
    "    target = \"Loan_Status\""
   ],
   "outputs": [
    {
     "output_type": "stream",
     "name": "stdout",
     "text": [
      "<class 'pandas.core.frame.DataFrame'>\n",
      "RangeIndex: 981 entries, 0 to 980\n",
      "Data columns (total 13 columns):\n",
      " #   Column             Non-Null Count  Dtype  \n",
      "---  ------             --------------  -----  \n",
      " 0   Loan_ID            981 non-null    object \n",
      " 1   Gender             981 non-null    object \n",
      " 2   Married            981 non-null    object \n",
      " 3   Dependents         981 non-null    object \n",
      " 4   Education          981 non-null    object \n",
      " 5   Self_Employed      981 non-null    object \n",
      " 6   ApplicantIncome    981 non-null    int64  \n",
      " 7   CoapplicantIncome  981 non-null    float64\n",
      " 8   Loamount           954 non-null    float64\n",
      " 9   Loan_Amount_Term   981 non-null    int64  \n",
      " 10  Credit_History     981 non-null    int64  \n",
      " 11  Property_Area      981 non-null    object \n",
      " 12  Loan_Status        981 non-null    object \n",
      "dtypes: float64(2), int64(3), object(8)\n",
      "memory usage: 99.8+ KB\n"
     ]
    }
   ],
   "metadata": {}
  },
  {
   "cell_type": "code",
   "execution_count": 114,
   "source": [
    "orig_data.describe()"
   ],
   "outputs": [
    {
     "output_type": "execute_result",
     "data": {
      "text/html": [
       "<div>\n",
       "<style scoped>\n",
       "    .dataframe tbody tr th:only-of-type {\n",
       "        vertical-align: middle;\n",
       "    }\n",
       "\n",
       "    .dataframe tbody tr th {\n",
       "        vertical-align: top;\n",
       "    }\n",
       "\n",
       "    .dataframe thead th {\n",
       "        text-align: right;\n",
       "    }\n",
       "</style>\n",
       "<table border=\"1\" class=\"dataframe\">\n",
       "  <thead>\n",
       "    <tr style=\"text-align: right;\">\n",
       "      <th></th>\n",
       "      <th>ApplicantIncome</th>\n",
       "      <th>CoapplicantIncome</th>\n",
       "      <th>Loamount</th>\n",
       "      <th>Loan_Amount_Term</th>\n",
       "      <th>Credit_History</th>\n",
       "    </tr>\n",
       "  </thead>\n",
       "  <tbody>\n",
       "    <tr>\n",
       "      <th>count</th>\n",
       "      <td>981.000000</td>\n",
       "      <td>981.000000</td>\n",
       "      <td>954.000000</td>\n",
       "      <td>981.000000</td>\n",
       "      <td>981.000000</td>\n",
       "    </tr>\n",
       "    <tr>\n",
       "      <th>mean</th>\n",
       "      <td>5179.795107</td>\n",
       "      <td>1601.916330</td>\n",
       "      <td>142.511530</td>\n",
       "      <td>342.564730</td>\n",
       "      <td>0.849134</td>\n",
       "    </tr>\n",
       "    <tr>\n",
       "      <th>std</th>\n",
       "      <td>5695.104533</td>\n",
       "      <td>2718.772806</td>\n",
       "      <td>77.421743</td>\n",
       "      <td>64.482011</td>\n",
       "      <td>0.358101</td>\n",
       "    </tr>\n",
       "    <tr>\n",
       "      <th>min</th>\n",
       "      <td>0.000000</td>\n",
       "      <td>0.000000</td>\n",
       "      <td>9.000000</td>\n",
       "      <td>6.000000</td>\n",
       "      <td>0.000000</td>\n",
       "    </tr>\n",
       "    <tr>\n",
       "      <th>25%</th>\n",
       "      <td>2875.000000</td>\n",
       "      <td>0.000000</td>\n",
       "      <td>100.000000</td>\n",
       "      <td>360.000000</td>\n",
       "      <td>1.000000</td>\n",
       "    </tr>\n",
       "    <tr>\n",
       "      <th>50%</th>\n",
       "      <td>3800.000000</td>\n",
       "      <td>1110.000000</td>\n",
       "      <td>126.000000</td>\n",
       "      <td>360.000000</td>\n",
       "      <td>1.000000</td>\n",
       "    </tr>\n",
       "    <tr>\n",
       "      <th>75%</th>\n",
       "      <td>5516.000000</td>\n",
       "      <td>2365.000000</td>\n",
       "      <td>162.000000</td>\n",
       "      <td>360.000000</td>\n",
       "      <td>1.000000</td>\n",
       "    </tr>\n",
       "    <tr>\n",
       "      <th>max</th>\n",
       "      <td>81000.000000</td>\n",
       "      <td>41667.000000</td>\n",
       "      <td>700.000000</td>\n",
       "      <td>480.000000</td>\n",
       "      <td>1.000000</td>\n",
       "    </tr>\n",
       "  </tbody>\n",
       "</table>\n",
       "</div>"
      ],
      "text/plain": [
       "       ApplicantIncome  CoapplicantIncome    Loamount  Loan_Amount_Term  \\\n",
       "count       981.000000         981.000000  954.000000        981.000000   \n",
       "mean       5179.795107        1601.916330  142.511530        342.564730   \n",
       "std        5695.104533        2718.772806   77.421743         64.482011   \n",
       "min           0.000000           0.000000    9.000000          6.000000   \n",
       "25%        2875.000000           0.000000  100.000000        360.000000   \n",
       "50%        3800.000000        1110.000000  126.000000        360.000000   \n",
       "75%        5516.000000        2365.000000  162.000000        360.000000   \n",
       "max       81000.000000       41667.000000  700.000000        480.000000   \n",
       "\n",
       "       Credit_History  \n",
       "count      981.000000  \n",
       "mean         0.849134  \n",
       "std          0.358101  \n",
       "min          0.000000  \n",
       "25%          1.000000  \n",
       "50%          1.000000  \n",
       "75%          1.000000  \n",
       "max          1.000000  "
      ]
     },
     "metadata": {},
     "execution_count": 114
    }
   ],
   "metadata": {}
  },
  {
   "cell_type": "markdown",
   "source": [
    "Observe that for *ApplicantIncome*, *CoapplicantIncome* and *Loanamount* there's a good difference between the 75th percentile and the maximum value, suggesting outlier situation."
   ],
   "metadata": {}
  },
  {
   "cell_type": "markdown",
   "source": [
    "## Data Preprocessing"
   ],
   "metadata": {}
  },
  {
   "cell_type": "markdown",
   "source": [
    "### Removing or Imputing Nulls"
   ],
   "metadata": {}
  },
  {
   "cell_type": "code",
   "execution_count": 115,
   "source": [
    "orig_data.isnull().sum()"
   ],
   "outputs": [
    {
     "output_type": "execute_result",
     "data": {
      "text/plain": [
       "Loan_ID               0\n",
       "Gender                0\n",
       "Married               0\n",
       "Dependents            0\n",
       "Education             0\n",
       "Self_Employed         0\n",
       "ApplicantIncome       0\n",
       "CoapplicantIncome     0\n",
       "Loamount             27\n",
       "Loan_Amount_Term      0\n",
       "Credit_History        0\n",
       "Property_Area         0\n",
       "Loan_Status           0\n",
       "dtype: int64"
      ]
     },
     "metadata": {},
     "execution_count": 115
    }
   ],
   "metadata": {}
  },
  {
   "cell_type": "code",
   "execution_count": 116,
   "source": [
    "print(\"Percentage of rows with Nulls: {} %\".format(round(orig_data.isnull().any(axis=1).sum()*100/len(orig_data),2)))"
   ],
   "outputs": [
    {
     "output_type": "stream",
     "name": "stdout",
     "text": [
      "Percentage of rows with Nulls: 2.75 %\n"
     ]
    }
   ],
   "metadata": {}
  },
  {
   "cell_type": "markdown",
   "source": [
    "The percentage of rows with nulls is quite low, hence it makes sense to drop all these than imputing."
   ],
   "metadata": {}
  },
  {
   "cell_type": "code",
   "execution_count": 117,
   "source": [
    "filt_data = orig_data\r\n",
    "filt_data.dropna(inplace = True)\r\n",
    "filt_data.reset_index(drop=True, inplace=True)"
   ],
   "outputs": [],
   "metadata": {}
  },
  {
   "cell_type": "code",
   "execution_count": 118,
   "source": [
    "# Confirming\r\n",
    "filt_data.isnull().sum()"
   ],
   "outputs": [
    {
     "output_type": "execute_result",
     "data": {
      "text/plain": [
       "Loan_ID              0\n",
       "Gender               0\n",
       "Married              0\n",
       "Dependents           0\n",
       "Education            0\n",
       "Self_Employed        0\n",
       "ApplicantIncome      0\n",
       "CoapplicantIncome    0\n",
       "Loamount             0\n",
       "Loan_Amount_Term     0\n",
       "Credit_History       0\n",
       "Property_Area        0\n",
       "Loan_Status          0\n",
       "dtype: int64"
      ]
     },
     "metadata": {},
     "execution_count": 118
    }
   ],
   "metadata": {}
  },
  {
   "cell_type": "markdown",
   "source": [
    "### Outlier Treatment"
   ],
   "metadata": {}
  },
  {
   "cell_type": "markdown",
   "source": [
    "Before treating outliers let's observe variation of *ApplicantIncome* and *CoapplicantIncome* w.r.t. *Loamount* and *Loan_Amount_Term*"
   ],
   "metadata": {}
  },
  {
   "cell_type": "code",
   "execution_count": 119,
   "source": [
    "ax = filt_data.plot.line(x=\"Loamount\", y=[\"ApplicantIncome\", \"CoapplicantIncome\"], figsize=(10,6), style=[\"o\", \"x\"])\r\n",
    "ax.axhline(filt_data[\"ApplicantIncome\"].mean() + 3*filt_data[\"ApplicantIncome\"].std(), color=\"green\", linestyle=\"dashed\")\r\n",
    "ax.axhline(filt_data[\"CoapplicantIncome\"].mean() + 3*filt_data[\"CoapplicantIncome\"].std(), color=\"red\", linestyle=\"dashed\")\r\n",
    "pyplot.show()"
   ],
   "outputs": [
    {
     "output_type": "display_data",
     "data": {
      "image/png": "[encoded data removed]",
      "text/plain": [
       "<Figure size 720x432 with 1 Axes>"
      ]
     },
     "metadata": {
      "needs_background": "light"
     }
    }
   ],
   "metadata": {}
  },
  {
   "cell_type": "code",
   "execution_count": 120,
   "source": [
    "ax = filt_data.plot.line(x=\"Loan_Amount_Term\", y=[\"ApplicantIncome\", \"CoapplicantIncome\"], figsize=(10,6), style=[\"o\", \"x\"])\r\n",
    "ax.axhline(filt_data[\"ApplicantIncome\"].mean() + 3*filt_data[\"ApplicantIncome\"].std(), color=\"green\", linestyle=\"dashed\")\r\n",
    "ax.axhline(filt_data[\"CoapplicantIncome\"].mean() + 3*filt_data[\"CoapplicantIncome\"].std(), color=\"red\", linestyle=\"dashed\")\r\n",
    "pyplot.show()"
   ],
   "outputs": [
    {
     "output_type": "display_data",
     "data": {
      "image/png": "[encoded data removed]",
      "text/plain": [
       "<Figure size 720x432 with 1 Axes>"
      ]
     },
     "metadata": {
      "needs_background": "light"
     }
    }
   ],
   "metadata": {}
  },
  {
   "cell_type": "markdown",
   "source": [
    "As evident from both the graphs:\r\n",
    "* Not a linear variationn of *ApplicantIncome* or *CoapplicantIncome* w.r.t. *Loamount*.\r\n",
    "* The 3-Std line enough to keep the outliers out of the data.\r\n",
    "\r\n",
    "Hence it is better to spot outliers using box plot and using information from quantiles as above for these columns."
   ],
   "metadata": {}
  },
  {
   "cell_type": "code",
   "execution_count": 121,
   "source": [
    "filt_data[DataColumns.continuous].boxplot(figsize=(10,6))"
   ],
   "outputs": [
    {
     "output_type": "execute_result",
     "data": {
      "text/plain": [
       "<AxesSubplot:>"
      ]
     },
     "metadata": {},
     "execution_count": 121
    },
    {
     "output_type": "display_data",
     "data": {
      "image/png": "[encoded data removed]",
      "text/plain": [
       "<Figure size 720x432 with 1 Axes>"
      ]
     },
     "metadata": {
      "needs_background": "light"
     }
    }
   ],
   "metadata": {}
  },
  {
   "cell_type": "code",
   "execution_count": 122,
   "source": [
    "from scipy.stats import zscore\r\n",
    "\r\n",
    "for col in DataColumns.continuous:\r\n",
    "    filt_data[\"z_\" + col] = zscore(filt_data[col])\r\n",
    "    filt_data = filt_data[filt_data[\"z_\" + col] < 3]\r\n",
    "    filt_data.reset_index(drop=True, inplace=True)\r\n",
    "\r\n",
    "filt_data[DataColumns.continuous].boxplot(figsize=(10,6))"
   ],
   "outputs": [
    {
     "output_type": "stream",
     "name": "stderr",
     "text": [
      "C:\\Users\\THUNDE~1\\AppData\\Local\\Temp/ipykernel_14356/3818479515.py:4: SettingWithCopyWarning: \n",
      "A value is trying to be set on a copy of a slice from a DataFrame.\n",
      "Try using .loc[row_indexer,col_indexer] = value instead\n",
      "\n",
      "See the caveats in the documentation: https://pandas.pydata.org/pandas-docs/stable/user_guide/indexing.html#returning-a-view-versus-a-copy\n",
      "  filt_data[\"z_\" + col] = zscore(filt_data[col])\n"
     ]
    },
    {
     "output_type": "execute_result",
     "data": {
      "text/plain": [
       "<AxesSubplot:>"
      ]
     },
     "metadata": {},
     "execution_count": 122
    },
    {
     "output_type": "display_data",
     "data": {
      "image/png": "[encoded data removed]",
      "text/plain": [
       "<Figure size 720x432 with 1 Axes>"
      ]
     },
     "metadata": {
      "needs_background": "light"
     }
    }
   ],
   "metadata": {}
  },
  {
   "cell_type": "markdown",
   "source": [
    "Comparing both the box plots, it is clear that after removing points beyond 3 Std., all values above 20000 in *ApplicantIncome* and 10000 in *CoapplicantIncome* have been removed."
   ],
   "metadata": {}
  },
  {
   "cell_type": "markdown",
   "source": [
    "### Label Encoding"
   ],
   "metadata": {}
  },
  {
   "cell_type": "code",
   "execution_count": 123,
   "source": [
    "from sklearn.preprocessing import LabelEncoder\r\n",
    "\r\n",
    "encoder = LabelEncoder()\r\n",
    "filt_data[\"Credit_History\"] = filt_data[\"Credit_History\"].astype(str)\r\n",
    "filt_data[\"Dependents\"] = filt_data[\"Dependents\"].astype(str)\r\n",
    "\r\n",
    "for col in DataColumns.categorical+[DataColumns.target]:\r\n",
    "    filt_data[col] = encoder.fit_transform(filt_data[col])\r\n",
    "\r\n",
    "ppx_data = filt_data[DataColumns.categorical + DataColumns.continuous + [DataColumns.target]]\r\n",
    "ppx_data.head()"
   ],
   "outputs": [
    {
     "output_type": "execute_result",
     "data": {
      "text/html": [
       "<div>\n",
       "<style scoped>\n",
       "    .dataframe tbody tr th:only-of-type {\n",
       "        vertical-align: middle;\n",
       "    }\n",
       "\n",
       "    .dataframe tbody tr th {\n",
       "        vertical-align: top;\n",
       "    }\n",
       "\n",
       "    .dataframe thead th {\n",
       "        text-align: right;\n",
       "    }\n",
       "</style>\n",
       "<table border=\"1\" class=\"dataframe\">\n",
       "  <thead>\n",
       "    <tr style=\"text-align: right;\">\n",
       "      <th></th>\n",
       "      <th>Gender</th>\n",
       "      <th>Married</th>\n",
       "      <th>Dependents</th>\n",
       "      <th>Education</th>\n",
       "      <th>Self_Employed</th>\n",
       "      <th>Credit_History</th>\n",
       "      <th>Property_Area</th>\n",
       "      <th>ApplicantIncome</th>\n",
       "      <th>CoapplicantIncome</th>\n",
       "      <th>Loamount</th>\n",
       "      <th>Loan_Amount_Term</th>\n",
       "      <th>Loan_Status</th>\n",
       "    </tr>\n",
       "  </thead>\n",
       "  <tbody>\n",
       "    <tr>\n",
       "      <th>0</th>\n",
       "      <td>1</td>\n",
       "      <td>1</td>\n",
       "      <td>1</td>\n",
       "      <td>0</td>\n",
       "      <td>0</td>\n",
       "      <td>1</td>\n",
       "      <td>0</td>\n",
       "      <td>4583</td>\n",
       "      <td>1508.0</td>\n",
       "      <td>128.0</td>\n",
       "      <td>360</td>\n",
       "      <td>0</td>\n",
       "    </tr>\n",
       "    <tr>\n",
       "      <th>1</th>\n",
       "      <td>1</td>\n",
       "      <td>1</td>\n",
       "      <td>0</td>\n",
       "      <td>0</td>\n",
       "      <td>1</td>\n",
       "      <td>1</td>\n",
       "      <td>2</td>\n",
       "      <td>3000</td>\n",
       "      <td>0.0</td>\n",
       "      <td>66.0</td>\n",
       "      <td>360</td>\n",
       "      <td>1</td>\n",
       "    </tr>\n",
       "    <tr>\n",
       "      <th>2</th>\n",
       "      <td>1</td>\n",
       "      <td>1</td>\n",
       "      <td>0</td>\n",
       "      <td>1</td>\n",
       "      <td>0</td>\n",
       "      <td>1</td>\n",
       "      <td>2</td>\n",
       "      <td>2583</td>\n",
       "      <td>2358.0</td>\n",
       "      <td>120.0</td>\n",
       "      <td>360</td>\n",
       "      <td>1</td>\n",
       "    </tr>\n",
       "    <tr>\n",
       "      <th>3</th>\n",
       "      <td>1</td>\n",
       "      <td>0</td>\n",
       "      <td>0</td>\n",
       "      <td>0</td>\n",
       "      <td>0</td>\n",
       "      <td>1</td>\n",
       "      <td>2</td>\n",
       "      <td>6000</td>\n",
       "      <td>0.0</td>\n",
       "      <td>141.0</td>\n",
       "      <td>360</td>\n",
       "      <td>1</td>\n",
       "    </tr>\n",
       "    <tr>\n",
       "      <th>4</th>\n",
       "      <td>1</td>\n",
       "      <td>1</td>\n",
       "      <td>2</td>\n",
       "      <td>0</td>\n",
       "      <td>1</td>\n",
       "      <td>1</td>\n",
       "      <td>2</td>\n",
       "      <td>5417</td>\n",
       "      <td>4196.0</td>\n",
       "      <td>267.0</td>\n",
       "      <td>360</td>\n",
       "      <td>1</td>\n",
       "    </tr>\n",
       "  </tbody>\n",
       "</table>\n",
       "</div>"
      ],
      "text/plain": [
       "   Gender  Married  Dependents  Education  Self_Employed  Credit_History  \\\n",
       "0       1        1           1          0              0               1   \n",
       "1       1        1           0          0              1               1   \n",
       "2       1        1           0          1              0               1   \n",
       "3       1        0           0          0              0               1   \n",
       "4       1        1           2          0              1               1   \n",
       "\n",
       "   Property_Area  ApplicantIncome  CoapplicantIncome  Loamount  \\\n",
       "0              0             4583             1508.0     128.0   \n",
       "1              2             3000                0.0      66.0   \n",
       "2              2             2583             2358.0     120.0   \n",
       "3              2             6000                0.0     141.0   \n",
       "4              2             5417             4196.0     267.0   \n",
       "\n",
       "   Loan_Amount_Term  Loan_Status  \n",
       "0               360            0  \n",
       "1               360            1  \n",
       "2               360            1  \n",
       "3               360            1  \n",
       "4               360            1  "
      ]
     },
     "metadata": {},
     "execution_count": 123
    }
   ],
   "metadata": {}
  },
  {
   "cell_type": "markdown",
   "source": [
    "### Check Class Balance"
   ],
   "metadata": {}
  },
  {
   "cell_type": "code",
   "execution_count": 124,
   "source": [
    "ppx_data[DataColumns.target].value_counts(normalize=True)"
   ],
   "outputs": [
    {
     "output_type": "execute_result",
     "data": {
      "text/plain": [
       "1    0.74345\n",
       "0    0.25655\n",
       "Name: Loan_Status, dtype: float64"
      ]
     },
     "metadata": {},
     "execution_count": 124
    }
   ],
   "metadata": {}
  },
  {
   "cell_type": "markdown",
   "source": [
    "Approximately 75% isto 25%, which is enough to proceed with. Just we need to make sure the same variation when we split the data."
   ],
   "metadata": {}
  },
  {
   "cell_type": "markdown",
   "source": [
    "## Status Prediction"
   ],
   "metadata": {}
  },
  {
   "cell_type": "markdown",
   "source": [
    "### Split Data"
   ],
   "metadata": {}
  },
  {
   "cell_type": "code",
   "execution_count": 125,
   "source": [
    "from sklearn.model_selection import train_test_split\r\n",
    "\r\n",
    "X_train, X_test, y_train, y_test = train_test_split(ppx_data[DataColumns.categorical + DataColumns.continuous], ppx_data[DataColumns.target], test_size = 0.2)\r\n",
    "print(\"Size of train set: {} or {} %\".format(X_train.shape, round(len(X_train)*100/len(ppx_data), 2)))\r\n",
    "print(\"Size of test set: {} or {} %\".format(X_test.shape, round(len(X_test)*100/len(ppx_data), 2)))"
   ],
   "outputs": [
    {
     "output_type": "stream",
     "name": "stdout",
     "text": [
      "Size of train set: (732, 11) or 79.91 %\n",
      "Size of test set: (184, 11) or 20.09 %\n"
     ]
    }
   ],
   "metadata": {}
  },
  {
   "cell_type": "code",
   "execution_count": 126,
   "source": [
    "# Check Balance in Train\r\n",
    "y_train.value_counts(normalize=True)"
   ],
   "outputs": [
    {
     "output_type": "execute_result",
     "data": {
      "text/plain": [
       "1    0.730874\n",
       "0    0.269126\n",
       "Name: Loan_Status, dtype: float64"
      ]
     },
     "metadata": {},
     "execution_count": 126
    }
   ],
   "metadata": {}
  },
  {
   "cell_type": "code",
   "execution_count": 127,
   "source": [
    "# Check Balance in Test\r\n",
    "y_test.value_counts(normalize=True)"
   ],
   "outputs": [
    {
     "output_type": "execute_result",
     "data": {
      "text/plain": [
       "1    0.793478\n",
       "0    0.206522\n",
       "Name: Loan_Status, dtype: float64"
      ]
     },
     "metadata": {},
     "execution_count": 127
    }
   ],
   "metadata": {}
  },
  {
   "cell_type": "markdown",
   "source": [
    "Approximately similar balance as the original data, hence good to proceed else we'd need to shuffle again."
   ],
   "metadata": {}
  },
  {
   "cell_type": "markdown",
   "source": [
    "### Creating Model"
   ],
   "metadata": {}
  },
  {
   "cell_type": "markdown",
   "source": [
    "Let's begin with Bagging technique to create an estimator for the purpose. The technique is implemented efficiently by a *Random Forest Classifier* that balances *Bias* and *Variance* trade-off effectively. Along with this, we'll train the estimator in *Grid Search Cross Validation* format, that will let us have the tuned estimator over the choice of hyperparameters provided."
   ],
   "metadata": {}
  },
  {
   "cell_type": "code",
   "execution_count": 128,
   "source": [
    "from sklearn.metrics import fbeta_score, make_scorer\r\n",
    "\r\n",
    "def f_beta(y_true, y_pred):\r\n",
    "    return fbeta_score(y_true, y_pred, beta = 0.85)\r\n",
    "\r\n",
    "f_beta_score = make_scorer(f_beta, greater_is_better=True)"
   ],
   "outputs": [],
   "metadata": {}
  },
  {
   "cell_type": "code",
   "execution_count": 129,
   "source": [
    "from sklearn.model_selection import GridSearchCV\r\n",
    "from sklearn.ensemble import RandomForestClassifier\r\n",
    "\r\n",
    "params = {\r\n",
    "    \"n_estimators\": [80, 100, 120],\r\n",
    "    \"criterion\": [\"gini\", \"entropy\"],\r\n",
    "    \"max_depth\": [4, 6, 8],\r\n",
    "    \"max_features\": [3, 6, 9],\r\n",
    "    \"oob_score\": [True],\r\n",
    "    \"n_jobs\": [3],\r\n",
    "    \"class_weight\": [\"balanced_subsample\"]\r\n",
    "}\r\n",
    "\r\n",
    "rf_estimator = RandomForestClassifier()\r\n",
    "classifier = GridSearchCV(estimator = rf_estimator, param_grid=params, scoring=f_beta_score, n_jobs=2, cv=3)\r\n",
    "classifier.fit(X_train, y_train)\r\n"
   ],
   "outputs": [
    {
     "output_type": "execute_result",
     "data": {
      "text/plain": [
       "GridSearchCV(cv=3, estimator=RandomForestClassifier(), n_jobs=2,\n",
       "             param_grid={'class_weight': ['balanced_subsample'],\n",
       "                         'criterion': ['gini', 'entropy'],\n",
       "                         'max_depth': [4, 6, 8], 'max_features': [3, 6, 9],\n",
       "                         'n_estimators': [80, 100, 120], 'n_jobs': [3],\n",
       "                         'oob_score': [True]},\n",
       "             scoring=make_scorer(f_beta))"
      ]
     },
     "metadata": {},
     "execution_count": 129
    }
   ],
   "metadata": {}
  },
  {
   "cell_type": "code",
   "execution_count": 130,
   "source": [
    "classifier.best_estimator_"
   ],
   "outputs": [
    {
     "output_type": "execute_result",
     "data": {
      "text/plain": [
       "RandomForestClassifier(class_weight='balanced_subsample', max_depth=8,\n",
       "                       max_features=9, n_estimators=80, n_jobs=3,\n",
       "                       oob_score=True)"
      ]
     },
     "metadata": {},
     "execution_count": 130
    }
   ],
   "metadata": {}
  },
  {
   "cell_type": "code",
   "execution_count": 131,
   "source": [
    "classifier.best_score_"
   ],
   "outputs": [
    {
     "output_type": "execute_result",
     "data": {
      "text/plain": [
       "0.9122594885731793"
      ]
     },
     "metadata": {},
     "execution_count": 131
    }
   ],
   "metadata": {}
  },
  {
   "cell_type": "markdown",
   "source": [
    "### Evaluating Model"
   ],
   "metadata": {}
  },
  {
   "cell_type": "code",
   "execution_count": 132,
   "source": [
    "from sklearn.metrics import classification_report\r\n",
    "\r\n",
    "target_names = list(encoder.inverse_transform(ppx_data[DataColumns.target].unique()))\r\n",
    "\r\n",
    "# Train\r\n",
    "print(classification_report(y_true = y_train, y_pred = classifier.predict(X_train), target_names = target_names))"
   ],
   "outputs": [
    {
     "output_type": "stream",
     "name": "stdout",
     "text": [
      "              precision    recall  f1-score   support\n",
      "\n",
      "           N       0.99      0.86      0.92       197\n",
      "           Y       0.95      1.00      0.97       535\n",
      "\n",
      "    accuracy                           0.96       732\n",
      "   macro avg       0.97      0.93      0.95       732\n",
      "weighted avg       0.96      0.96      0.96       732\n",
      "\n"
     ]
    }
   ],
   "metadata": {}
  },
  {
   "cell_type": "code",
   "execution_count": 133,
   "source": [
    "# Test\r\n",
    "print(classification_report(y_true = y_test, y_pred = classifier.predict(X_test), target_names = target_names))"
   ],
   "outputs": [
    {
     "output_type": "stream",
     "name": "stdout",
     "text": [
      "              precision    recall  f1-score   support\n",
      "\n",
      "           N       0.80      0.53      0.63        38\n",
      "           Y       0.89      0.97      0.92       146\n",
      "\n",
      "    accuracy                           0.88       184\n",
      "   macro avg       0.84      0.75      0.78       184\n",
      "weighted avg       0.87      0.88      0.86       184\n",
      "\n"
     ]
    }
   ],
   "metadata": {}
  },
  {
   "cell_type": "markdown",
   "source": [
    "Now, we started our algorithm creation with the following objectives:\r\n",
    "1. High Precision - Critical factor\r\n",
    "2. High Accuracy - Important factor\r\n",
    "\r\n",
    "Observing our model performance over both the sets:\r\n",
    "1. All the metric scores are very close, which implies our model is *very well generalized*.\r\n",
    "2. The *Precision* for negative cases in test set is 100% for the test set, hence meeting our objective for the critical factor. Hence the model is tuned to detect the cases of loan defaults.\r\n",
    "3. The *Accuracy* for the test set is good enough at 88%, hence meeting our next objective. The accuracy can further be imporved using boosting technique or trying other models and creating an ensemble."
   ],
   "metadata": {}
  }
 ],
 "metadata": {
  "orig_nbformat": 4,
  "language_info": {
   "name": "python",
   "version": "3.8.10",
   "mimetype": "text/x-python",
   "codemirror_mode": {
    "name": "ipython",
    "version": 3
   },
   "pygments_lexer": "ipython3",
   "nbconvert_exporter": "python",
   "file_extension": ".py"
  },
  "kernelspec": {
   "name": "python3",
   "display_name": "Python 3.8.10 64-bit ('notebook': venv)"
  },
  "interpreter": {
   "hash": "4391f930fb0de4c7b75c44902e0e28772ca13b804a6279d24ea64028fa9db96b"
  }
 },
 "nbformat": 4,
 "nbformat_minor": 2
}