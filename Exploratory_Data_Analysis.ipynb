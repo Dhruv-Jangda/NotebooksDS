{
  "nbformat": 4,
  "nbformat_minor": 0,
  "metadata": {
    "colab": {
      "name": "Exploratory Data Analysis - EDA",
      "provenance": [],
      "collapsed_sections": [
        "5F9KNfEK3r_3",
        "ookjhJTS38n5",
        "wf5O4nqn4XCN",
        "AoC9Y1Yt6CuL",
        "DQpPGuCc6bX9",
        "r9QnuFoJ6vTJ"
      ],
      "toc_visible": true
    },
    "kernelspec": {
      "name": "python3",
      "display_name": "Python 3"
    }
  },
  "cells": [
    {
      "cell_type": "markdown",
      "metadata": {
        "id": "5F9KNfEK3r_3"
      },
      "source": [
        "# Importing Libraries\n"
      ]
    },
    {
      "cell_type": "code",
      "metadata": {
        "id": "4sNhE6eLbCGQ"
      },
      "source": [
        "from seaborn import heatmap, boxplot\n",
        "from pandas import read_csv\n",
        "from matplotlib import pyplot\n",
        "%matplotlib inline"
      ],
      "execution_count": null,
      "outputs": []
    },
    {
      "cell_type": "markdown",
      "metadata": {
        "id": "ookjhJTS38n5"
      },
      "source": [
        "# Loading Dataset - California Housing"
      ]
    },
    {
      "cell_type": "code",
      "metadata": {
        "colab": {
          "base_uri": "https://localhost:8080/",
          "height": 224
        },
        "id": "zJgnNteck9cy",
        "outputId": "151cc0a7-c6dd-4f10-ad70-55ad41af2ac4"
      },
      "source": [
        "train = read_csv(\"./sample_data/california_housing_train.csv\", encoding=\"utf-8\")\n",
        "train.head()"
      ],
      "execution_count": null,
      "outputs": [
        {
          "output_type": "execute_result",
          "data": {
            "text/html": [
              "<div>\n",
              "<style scoped>\n",
              "    .dataframe tbody tr th:only-of-type {\n",
              "        vertical-align: middle;\n",
              "    }\n",
              "\n",
              "    .dataframe tbody tr th {\n",
              "        vertical-align: top;\n",
              "    }\n",
              "\n",
              "    .dataframe thead th {\n",
              "        text-align: right;\n",
              "    }\n",
              "</style>\n",
              "<table border=\"1\" class=\"dataframe\">\n",
              "  <thead>\n",
              "    <tr style=\"text-align: right;\">\n",
              "      <th></th>\n",
              "      <th>longitude</th>\n",
              "      <th>latitude</th>\n",
              "      <th>housing_median_age</th>\n",
              "      <th>total_rooms</th>\n",
              "      <th>total_bedrooms</th>\n",
              "      <th>population</th>\n",
              "      <th>households</th>\n",
              "      <th>median_income</th>\n",
              "      <th>median_house_value</th>\n",
              "    </tr>\n",
              "  </thead>\n",
              "  <tbody>\n",
              "    <tr>\n",
              "      <th>0</th>\n",
              "      <td>-114.31</td>\n",
              "      <td>34.19</td>\n",
              "      <td>15.0</td>\n",
              "      <td>5612.0</td>\n",
              "      <td>1283.0</td>\n",
              "      <td>1015.0</td>\n",
              "      <td>472.0</td>\n",
              "      <td>1.4936</td>\n",
              "      <td>66900.0</td>\n",
              "    </tr>\n",
              "    <tr>\n",
              "      <th>1</th>\n",
              "      <td>-114.47</td>\n",
              "      <td>34.40</td>\n",
              "      <td>19.0</td>\n",
              "      <td>7650.0</td>\n",
              "      <td>1901.0</td>\n",
              "      <td>1129.0</td>\n",
              "      <td>463.0</td>\n",
              "      <td>1.8200</td>\n",
              "      <td>80100.0</td>\n",
              "    </tr>\n",
              "    <tr>\n",
              "      <th>2</th>\n",
              "      <td>-114.56</td>\n",
              "      <td>33.69</td>\n",
              "      <td>17.0</td>\n",
              "      <td>720.0</td>\n",
              "      <td>174.0</td>\n",
              "      <td>333.0</td>\n",
              "      <td>117.0</td>\n",
              "      <td>1.6509</td>\n",
              "      <td>85700.0</td>\n",
              "    </tr>\n",
              "    <tr>\n",
              "      <th>3</th>\n",
              "      <td>-114.57</td>\n",
              "      <td>33.64</td>\n",
              "      <td>14.0</td>\n",
              "      <td>1501.0</td>\n",
              "      <td>337.0</td>\n",
              "      <td>515.0</td>\n",
              "      <td>226.0</td>\n",
              "      <td>3.1917</td>\n",
              "      <td>73400.0</td>\n",
              "    </tr>\n",
              "    <tr>\n",
              "      <th>4</th>\n",
              "      <td>-114.57</td>\n",
              "      <td>33.57</td>\n",
              "      <td>20.0</td>\n",
              "      <td>1454.0</td>\n",
              "      <td>326.0</td>\n",
              "      <td>624.0</td>\n",
              "      <td>262.0</td>\n",
              "      <td>1.9250</td>\n",
              "      <td>65500.0</td>\n",
              "    </tr>\n",
              "  </tbody>\n",
              "</table>\n",
              "</div>"
            ],
            "text/plain": [
              "   longitude  latitude  ...  median_income  median_house_value\n",
              "0    -114.31     34.19  ...         1.4936             66900.0\n",
              "1    -114.47     34.40  ...         1.8200             80100.0\n",
              "2    -114.56     33.69  ...         1.6509             85700.0\n",
              "3    -114.57     33.64  ...         3.1917             73400.0\n",
              "4    -114.57     33.57  ...         1.9250             65500.0\n",
              "\n",
              "[5 rows x 9 columns]"
            ]
          },
          "metadata": {},
          "execution_count": 2
        }
      ]
    },
    {
      "cell_type": "markdown",
      "metadata": {
        "id": "n_bKk9yvl8a1"
      },
      "source": [
        "Let's say we want to build a regression model that predicts the value of a housing society given its features. But before that we need to perform EDA to get the best possible data that is:\n",
        "\n",
        "\n",
        "*   Devoud of Nulls\n",
        "*   Devoud of Outliers\n",
        "*   Having the relevant features - technique called *Feature Selection*\n",
        "\n"
      ]
    },
    {
      "cell_type": "markdown",
      "metadata": {
        "id": "wf5O4nqn4XCN"
      },
      "source": [
        "# Checking Nulls"
      ]
    },
    {
      "cell_type": "code",
      "metadata": {
        "colab": {
          "base_uri": "https://localhost:8080/"
        },
        "id": "szsXnuW3mn5E",
        "outputId": "09a198c7-7c5d-47d1-e857-63da3a5bbb60"
      },
      "source": [
        "train.info()"
      ],
      "execution_count": null,
      "outputs": [
        {
          "output_type": "stream",
          "text": [
            "<class 'pandas.core.frame.DataFrame'>\n",
            "RangeIndex: 17000 entries, 0 to 16999\n",
            "Data columns (total 9 columns):\n",
            " #   Column              Non-Null Count  Dtype  \n",
            "---  ------              --------------  -----  \n",
            " 0   longitude           17000 non-null  float64\n",
            " 1   latitude            17000 non-null  float64\n",
            " 2   housing_median_age  17000 non-null  float64\n",
            " 3   total_rooms         17000 non-null  float64\n",
            " 4   total_bedrooms      17000 non-null  float64\n",
            " 5   population          17000 non-null  float64\n",
            " 6   households          17000 non-null  float64\n",
            " 7   median_income       17000 non-null  float64\n",
            " 8   median_house_value  17000 non-null  float64\n",
            "dtypes: float64(9)\n",
            "memory usage: 1.2 MB\n"
          ],
          "name": "stdout"
        }
      ]
    },
    {
      "cell_type": "markdown",
      "metadata": {
        "id": "3TDIUO7Nt8A_"
      },
      "source": [
        "So there are no null values in any of the column. Visually checking if nulls present i.e. plotting True/False for nulls. Hence the extreme values will appeal visually and will show the presence of nulls. "
      ]
    },
    {
      "cell_type": "code",
      "metadata": {
        "colab": {
          "base_uri": "https://localhost:8080/",
          "height": 378
        },
        "id": "czkgkgZWwwDK",
        "outputId": "24128b5c-d5c0-4442-cbd9-4f2870abe557"
      },
      "source": [
        "heatmap(train.isnull(), yticklabels=False, cbar=False, cmap=\"viridis\")"
      ],
      "execution_count": null,
      "outputs": [
        {
          "output_type": "execute_result",
          "data": {
            "text/plain": [
              "<matplotlib.axes._subplots.AxesSubplot at 0x7fe0a9939d30>"
            ]
          },
          "metadata": {
            "tags": []
          },
          "execution_count": 23
        },
        {
          "output_type": "display_data",
          "data": {
            "image/png": "[encoded data removed]",
            "text/plain": [
              "<Figure size 432x288 with 1 Axes>"
            ]
          },
          "metadata": {
            "tags": [],
            "needs_background": "light"
          }
        }
      ]
    },
    {
      "cell_type": "markdown",
      "metadata": {
        "id": "fduIJ0uCsfRq"
      },
      "source": [
        "If there are nulls found, then either they are:\n",
        "\n",
        "*   Removed Or\n",
        "*   Imputed i.e. filled either by **mean** or **median** for *continuous* variable or **mode** for categorical variable.\n",
        "\n"
      ]
    },
    {
      "cell_type": "markdown",
      "metadata": {
        "id": "AoC9Y1Yt6CuL"
      },
      "source": [
        "# Detecting Outliers"
      ]
    },
    {
      "cell_type": "markdown",
      "metadata": {
        "id": "ogcxtR0cm1WS"
      },
      "source": [
        "Getting overall description i.e. count, mean, standard deviation, maximum, minimum, 25th percentile, 50th percentile(median) and 75th percentile "
      ]
    },
    {
      "cell_type": "code",
      "metadata": {
        "colab": {
          "base_uri": "https://localhost:8080/",
          "height": 297
        },
        "id": "rGzW6Dddm0Dh",
        "outputId": "1fbba95c-4310-4f0c-e792-f206af537d86"
      },
      "source": [
        "train.describe()"
      ],
      "execution_count": null,
      "outputs": [
        {
          "output_type": "execute_result",
          "data": {
            "text/html": [
              "<div>\n",
              "<style scoped>\n",
              "    .dataframe tbody tr th:only-of-type {\n",
              "        vertical-align: middle;\n",
              "    }\n",
              "\n",
              "    .dataframe tbody tr th {\n",
              "        vertical-align: top;\n",
              "    }\n",
              "\n",
              "    .dataframe thead th {\n",
              "        text-align: right;\n",
              "    }\n",
              "</style>\n",
              "<table border=\"1\" class=\"dataframe\">\n",
              "  <thead>\n",
              "    <tr style=\"text-align: right;\">\n",
              "      <th></th>\n",
              "      <th>longitude</th>\n",
              "      <th>latitude</th>\n",
              "      <th>housing_median_age</th>\n",
              "      <th>total_rooms</th>\n",
              "      <th>total_bedrooms</th>\n",
              "      <th>population</th>\n",
              "      <th>households</th>\n",
              "      <th>median_income</th>\n",
              "      <th>median_house_value</th>\n",
              "    </tr>\n",
              "  </thead>\n",
              "  <tbody>\n",
              "    <tr>\n",
              "      <th>count</th>\n",
              "      <td>17000.000000</td>\n",
              "      <td>17000.000000</td>\n",
              "      <td>17000.000000</td>\n",
              "      <td>17000.000000</td>\n",
              "      <td>17000.000000</td>\n",
              "      <td>17000.000000</td>\n",
              "      <td>17000.000000</td>\n",
              "      <td>17000.000000</td>\n",
              "      <td>17000.000000</td>\n",
              "    </tr>\n",
              "    <tr>\n",
              "      <th>mean</th>\n",
              "      <td>-119.562108</td>\n",
              "      <td>35.625225</td>\n",
              "      <td>28.589353</td>\n",
              "      <td>2643.664412</td>\n",
              "      <td>539.410824</td>\n",
              "      <td>1429.573941</td>\n",
              "      <td>501.221941</td>\n",
              "      <td>3.883578</td>\n",
              "      <td>207300.912353</td>\n",
              "    </tr>\n",
              "    <tr>\n",
              "      <th>std</th>\n",
              "      <td>2.005166</td>\n",
              "      <td>2.137340</td>\n",
              "      <td>12.586937</td>\n",
              "      <td>2179.947071</td>\n",
              "      <td>421.499452</td>\n",
              "      <td>1147.852959</td>\n",
              "      <td>384.520841</td>\n",
              "      <td>1.908157</td>\n",
              "      <td>115983.764387</td>\n",
              "    </tr>\n",
              "    <tr>\n",
              "      <th>min</th>\n",
              "      <td>-124.350000</td>\n",
              "      <td>32.540000</td>\n",
              "      <td>1.000000</td>\n",
              "      <td>2.000000</td>\n",
              "      <td>1.000000</td>\n",
              "      <td>3.000000</td>\n",
              "      <td>1.000000</td>\n",
              "      <td>0.499900</td>\n",
              "      <td>14999.000000</td>\n",
              "    </tr>\n",
              "    <tr>\n",
              "      <th>25%</th>\n",
              "      <td>-121.790000</td>\n",
              "      <td>33.930000</td>\n",
              "      <td>18.000000</td>\n",
              "      <td>1462.000000</td>\n",
              "      <td>297.000000</td>\n",
              "      <td>790.000000</td>\n",
              "      <td>282.000000</td>\n",
              "      <td>2.566375</td>\n",
              "      <td>119400.000000</td>\n",
              "    </tr>\n",
              "    <tr>\n",
              "      <th>50%</th>\n",
              "      <td>-118.490000</td>\n",
              "      <td>34.250000</td>\n",
              "      <td>29.000000</td>\n",
              "      <td>2127.000000</td>\n",
              "      <td>434.000000</td>\n",
              "      <td>1167.000000</td>\n",
              "      <td>409.000000</td>\n",
              "      <td>3.544600</td>\n",
              "      <td>180400.000000</td>\n",
              "    </tr>\n",
              "    <tr>\n",
              "      <th>75%</th>\n",
              "      <td>-118.000000</td>\n",
              "      <td>37.720000</td>\n",
              "      <td>37.000000</td>\n",
              "      <td>3151.250000</td>\n",
              "      <td>648.250000</td>\n",
              "      <td>1721.000000</td>\n",
              "      <td>605.250000</td>\n",
              "      <td>4.767000</td>\n",
              "      <td>265000.000000</td>\n",
              "    </tr>\n",
              "    <tr>\n",
              "      <th>max</th>\n",
              "      <td>-114.310000</td>\n",
              "      <td>41.950000</td>\n",
              "      <td>52.000000</td>\n",
              "      <td>37937.000000</td>\n",
              "      <td>6445.000000</td>\n",
              "      <td>35682.000000</td>\n",
              "      <td>6082.000000</td>\n",
              "      <td>15.000100</td>\n",
              "      <td>500001.000000</td>\n",
              "    </tr>\n",
              "  </tbody>\n",
              "</table>\n",
              "</div>"
            ],
            "text/plain": [
              "          longitude      latitude  ...  median_income  median_house_value\n",
              "count  17000.000000  17000.000000  ...   17000.000000        17000.000000\n",
              "mean    -119.562108     35.625225  ...       3.883578       207300.912353\n",
              "std        2.005166      2.137340  ...       1.908157       115983.764387\n",
              "min     -124.350000     32.540000  ...       0.499900        14999.000000\n",
              "25%     -121.790000     33.930000  ...       2.566375       119400.000000\n",
              "50%     -118.490000     34.250000  ...       3.544600       180400.000000\n",
              "75%     -118.000000     37.720000  ...       4.767000       265000.000000\n",
              "max     -114.310000     41.950000  ...      15.000100       500001.000000\n",
              "\n",
              "[8 rows x 9 columns]"
            ]
          },
          "metadata": {
            "tags": []
          },
          "execution_count": 6
        }
      ]
    },
    {
      "cell_type": "markdown",
      "metadata": {
        "id": "7zG7ALqRnWWr"
      },
      "source": [
        "Observe 75th percentile and maximum values in *total_rooms*, *total_bedrooms*, *polulation* and *households* have a significant difference, suggesting presence of outliers.\n",
        "\n",
        "To get a better idea of outliers in a variable, **box plot** or *box and whisker plot* is used, since it plots all points in a line and depicts its distribution statistics:\n",
        "\n",
        "\n",
        "*   Minimum\n",
        "*   First Quartile - 25th percentile\n",
        "*   Second Quartile or Median - 50th percentile\n",
        "*   Third Quartile - 75th percentile\n",
        "*   Maximum\n",
        "\n",
        "All outliers lie outside the whiskers.\n",
        "\n",
        "\n"
      ]
    },
    {
      "cell_type": "code",
      "metadata": {
        "colab": {
          "base_uri": "https://localhost:8080/",
          "height": 498
        },
        "id": "gH-MMgY7yowH",
        "outputId": "d1931a36-322f-46c8-a256-e017512b12be"
      },
      "source": [
        "columns = train.columns.values\n",
        "pyplot.figure(figsize=(24,8))\n",
        "for i in range(len(columns)):\n",
        "  pyplot.subplot(1, len(columns),i+1)\n",
        "  boxplot(data=train[columns[i]], color=\"green\", orient=\"v\", width=0.5).set(xlabel=columns[i])"
      ],
      "execution_count": null,
      "outputs": [
        {
          "output_type": "display_data",
          "data": {
            "image/png": "[encoded data removed]",
            "text/plain": [
              "<Figure size 1728x576 with 9 Axes>"
            ]
          },
          "metadata": {
            "tags": [],
            "needs_background": "light"
          }
        }
      ]
    },
    {
      "cell_type": "markdown",
      "metadata": {
        "id": "mBMXCrdP6T_r"
      },
      "source": [
        "Clearly visible that columns(or variables) *total_rooms*, *total_bedrooms*, *polulation* and *households* as observed earlier have outliers. Also *median_income* has some outliers too while *median_house_value* has few outliers."
      ]
    },
    {
      "cell_type": "markdown",
      "metadata": {
        "id": "DQpPGuCc6bX9"
      },
      "source": [
        "# Removing Outliers"
      ]
    },
    {
      "cell_type": "markdown",
      "metadata": {
        "id": "HBkbU_hWSYaf"
      },
      "source": [
        "Now a dataset with outliers can't be fed to a model, since it will deviate its behaviour from general observaions. Hence we need to remove these outliers and it is possible that if we remove outliers of one column, subsequent outliers of other columns are removed.\n",
        "\n",
        "Techniques to remove outliers:\n",
        "\n",
        "\n",
        "1.   **3 Standard Deviation** technique\n",
        "*   Standard deviation is the deviation of a data from its mean value.\n",
        "*   1 standard deviation away from mean i.e. `(mean) + k*(std_dev)` where k=+1 and -1 for this case, covers 68% of the data.\n",
        "*   2 standard deviations away from mean covers 95% of the data.\n",
        "*   Hence data lying across 3 standard deviations away from  mean is considered as an outlier.\n",
        "*   Though for small datasets sometimes data lying across 2 standard deviations away from mean is considered as an outlier.   \n",
        "\n",
        "\n",
        "2.   **Z-Score** technique\n",
        "*    It tells that how many standard deviations away from the mean, a data lies in the sample.\n",
        "*    Calculated as `[(data) - (mean)]/(std_dev)`. Observe this is rearranged form of above equation and so the idea as depicted above holds true here as well.\n",
        "\n",
        "3.  **Percentile** technique\n",
        "*   Percentile of a data in the sample defines percentage of sample that lies below it. Eg: if percentile(x) = 0.7 or 70%, then 70% of the sample lies below x.\n",
        "*   In other words, the maximum value in the sample is 1 or 100% percentile and minimum value in the sample is 0 or 0% percentile.\n",
        "*   Getting values that are at 0.95 percentile in the data.\n"
      ]
    },
    {
      "cell_type": "code",
      "metadata": {
        "colab": {
          "base_uri": "https://localhost:8080/"
        },
        "id": "JprbsBTkeF3B",
        "outputId": "634438e7-36d7-42ac-e73a-9f9e5b72ef97"
      },
      "source": [
        "train.quantile(0.95)"
      ],
      "execution_count": null,
      "outputs": [
        {
          "output_type": "execute_result",
          "data": {
            "text/plain": [
              "longitude               -117.07000\n",
              "latitude                  38.96000\n",
              "housing_median_age        52.00000\n",
              "total_rooms             6269.05000\n",
              "total_bedrooms          1283.00000\n",
              "population              3297.05000\n",
              "households              1172.10000\n",
              "median_income              7.36447\n",
              "median_house_value    495500.00000\n",
              "Name: 0.95, dtype: float64"
            ]
          },
          "metadata": {
            "tags": []
          },
          "execution_count": 53
        }
      ]
    },
    {
      "cell_type": "markdown",
      "metadata": {
        "id": "81bWCLAfeqMA"
      },
      "source": [
        "\n",
        "\n",
        "*   Though there is no such thumb rule to set a threshold to remove the values beyond a particular percentile value, but generally values that lie in percentile range [0.05,0.95] are taken. Or any data beyond 95% percentile or below 5% percentile is considered as an outlier. \n",
        "\n"
      ]
    },
    {
      "cell_type": "markdown",
      "metadata": {
        "id": "r9QnuFoJ6vTJ"
      },
      "source": [
        "# Feature Selection"
      ]
    },
    {
      "cell_type": "markdown",
      "metadata": {
        "id": "M-LB3fXatefK"
      },
      "source": [
        "So far we have:\n",
        "\n",
        "1.   Removed or Imputed Nulls\n",
        "2.   Removed Outliers\n",
        "\n",
        "Hence we have the data in the cleanest form. But still we are not ready to feed this to the model, since we don't know which are the variables that will make the model better in terms of:\n",
        "1.  Performance i.e. time to train.\n",
        "2.  Accuracy i.e. quality of the model.\n",
        "\n",
        "This introduces us to **Feature Selection** technique i.e. to select features to meet the above objectives. The most common technique to select features is using **correlation**.\n",
        "\n",
        "Our model in some way has to construct relationship of fed in variables to target variable. Hence to feed in the data to model we should have variables that in some way are dependent on the target variable and are independent of each other. Hence, we'll remove features that give correlation value close to 0 or we can decide a threshold for this as well. \n",
        "\n"
      ]
    },
    {
      "cell_type": "code",
      "metadata": {
        "colab": {
          "base_uri": "https://localhost:8080/",
          "height": 328
        },
        "id": "TGh3UllWxtIC",
        "outputId": "69daf54b-b5f5-499a-80c3-8731b8f532cd"
      },
      "source": [
        "train.corr()"
      ],
      "execution_count": null,
      "outputs": [
        {
          "output_type": "execute_result",
          "data": {
            "text/html": [
              "<div>\n",
              "<style scoped>\n",
              "    .dataframe tbody tr th:only-of-type {\n",
              "        vertical-align: middle;\n",
              "    }\n",
              "\n",
              "    .dataframe tbody tr th {\n",
              "        vertical-align: top;\n",
              "    }\n",
              "\n",
              "    .dataframe thead th {\n",
              "        text-align: right;\n",
              "    }\n",
              "</style>\n",
              "<table border=\"1\" class=\"dataframe\">\n",
              "  <thead>\n",
              "    <tr style=\"text-align: right;\">\n",
              "      <th></th>\n",
              "      <th>longitude</th>\n",
              "      <th>latitude</th>\n",
              "      <th>housing_median_age</th>\n",
              "      <th>total_rooms</th>\n",
              "      <th>total_bedrooms</th>\n",
              "      <th>population</th>\n",
              "      <th>households</th>\n",
              "      <th>median_income</th>\n",
              "      <th>median_house_value</th>\n",
              "    </tr>\n",
              "  </thead>\n",
              "  <tbody>\n",
              "    <tr>\n",
              "      <th>longitude</th>\n",
              "      <td>1.000000</td>\n",
              "      <td>-0.925208</td>\n",
              "      <td>-0.114250</td>\n",
              "      <td>0.047010</td>\n",
              "      <td>0.071802</td>\n",
              "      <td>0.101674</td>\n",
              "      <td>0.059628</td>\n",
              "      <td>-0.015485</td>\n",
              "      <td>-0.044982</td>\n",
              "    </tr>\n",
              "    <tr>\n",
              "      <th>latitude</th>\n",
              "      <td>-0.925208</td>\n",
              "      <td>1.000000</td>\n",
              "      <td>0.016454</td>\n",
              "      <td>-0.038773</td>\n",
              "      <td>-0.069373</td>\n",
              "      <td>-0.111261</td>\n",
              "      <td>-0.074902</td>\n",
              "      <td>-0.080303</td>\n",
              "      <td>-0.144917</td>\n",
              "    </tr>\n",
              "    <tr>\n",
              "      <th>housing_median_age</th>\n",
              "      <td>-0.114250</td>\n",
              "      <td>0.016454</td>\n",
              "      <td>1.000000</td>\n",
              "      <td>-0.360984</td>\n",
              "      <td>-0.320434</td>\n",
              "      <td>-0.295890</td>\n",
              "      <td>-0.302754</td>\n",
              "      <td>-0.115932</td>\n",
              "      <td>0.106758</td>\n",
              "    </tr>\n",
              "    <tr>\n",
              "      <th>total_rooms</th>\n",
              "      <td>0.047010</td>\n",
              "      <td>-0.038773</td>\n",
              "      <td>-0.360984</td>\n",
              "      <td>1.000000</td>\n",
              "      <td>0.928403</td>\n",
              "      <td>0.860170</td>\n",
              "      <td>0.919018</td>\n",
              "      <td>0.195383</td>\n",
              "      <td>0.130991</td>\n",
              "    </tr>\n",
              "    <tr>\n",
              "      <th>total_bedrooms</th>\n",
              "      <td>0.071802</td>\n",
              "      <td>-0.069373</td>\n",
              "      <td>-0.320434</td>\n",
              "      <td>0.928403</td>\n",
              "      <td>1.000000</td>\n",
              "      <td>0.881169</td>\n",
              "      <td>0.980920</td>\n",
              "      <td>-0.013495</td>\n",
              "      <td>0.045783</td>\n",
              "    </tr>\n",
              "    <tr>\n",
              "      <th>population</th>\n",
              "      <td>0.101674</td>\n",
              "      <td>-0.111261</td>\n",
              "      <td>-0.295890</td>\n",
              "      <td>0.860170</td>\n",
              "      <td>0.881169</td>\n",
              "      <td>1.000000</td>\n",
              "      <td>0.909247</td>\n",
              "      <td>-0.000638</td>\n",
              "      <td>-0.027850</td>\n",
              "    </tr>\n",
              "    <tr>\n",
              "      <th>households</th>\n",
              "      <td>0.059628</td>\n",
              "      <td>-0.074902</td>\n",
              "      <td>-0.302754</td>\n",
              "      <td>0.919018</td>\n",
              "      <td>0.980920</td>\n",
              "      <td>0.909247</td>\n",
              "      <td>1.000000</td>\n",
              "      <td>0.007644</td>\n",
              "      <td>0.061031</td>\n",
              "    </tr>\n",
              "    <tr>\n",
              "      <th>median_income</th>\n",
              "      <td>-0.015485</td>\n",
              "      <td>-0.080303</td>\n",
              "      <td>-0.115932</td>\n",
              "      <td>0.195383</td>\n",
              "      <td>-0.013495</td>\n",
              "      <td>-0.000638</td>\n",
              "      <td>0.007644</td>\n",
              "      <td>1.000000</td>\n",
              "      <td>0.691871</td>\n",
              "    </tr>\n",
              "    <tr>\n",
              "      <th>median_house_value</th>\n",
              "      <td>-0.044982</td>\n",
              "      <td>-0.144917</td>\n",
              "      <td>0.106758</td>\n",
              "      <td>0.130991</td>\n",
              "      <td>0.045783</td>\n",
              "      <td>-0.027850</td>\n",
              "      <td>0.061031</td>\n",
              "      <td>0.691871</td>\n",
              "      <td>1.000000</td>\n",
              "    </tr>\n",
              "  </tbody>\n",
              "</table>\n",
              "</div>"
            ],
            "text/plain": [
              "                    longitude  latitude  ...  median_income  median_house_value\n",
              "longitude            1.000000 -0.925208  ...      -0.015485           -0.044982\n",
              "latitude            -0.925208  1.000000  ...      -0.080303           -0.144917\n",
              "housing_median_age  -0.114250  0.016454  ...      -0.115932            0.106758\n",
              "total_rooms          0.047010 -0.038773  ...       0.195383            0.130991\n",
              "total_bedrooms       0.071802 -0.069373  ...      -0.013495            0.045783\n",
              "population           0.101674 -0.111261  ...      -0.000638           -0.027850\n",
              "households           0.059628 -0.074902  ...       0.007644            0.061031\n",
              "median_income       -0.015485 -0.080303  ...       1.000000            0.691871\n",
              "median_house_value  -0.044982 -0.144917  ...       0.691871            1.000000\n",
              "\n",
              "[9 rows x 9 columns]"
            ]
          },
          "metadata": {
            "tags": []
          },
          "execution_count": 54
        }
      ]
    },
    {
      "cell_type": "markdown",
      "metadata": {
        "id": "KagY1zSS2Foo"
      },
      "source": [
        "To visualize this correlation map:"
      ]
    },
    {
      "cell_type": "code",
      "metadata": {
        "colab": {
          "base_uri": "https://localhost:8080/",
          "height": 600
        },
        "id": "LivE5fA10UWH",
        "outputId": "047dd311-bdff-4140-a02f-eae5cbe2c5f3"
      },
      "source": [
        "pyplot.figure(figsize=(10,8))\n",
        "heatmap(train.corr(), annot=True, cmap=\"viridis\")"
      ],
      "execution_count": null,
      "outputs": [
        {
          "output_type": "execute_result",
          "data": {
            "text/plain": [
              "<matplotlib.axes._subplots.AxesSubplot at 0x7fe0a8c5c0f0>"
            ]
          },
          "metadata": {
            "tags": []
          },
          "execution_count": 62
        },
        {
          "output_type": "display_data",
          "data": {
            "image/png": "[encoded data removed]",
            "text/plain": [
              "<Figure size 720x576 with 2 Axes>"
            ]
          },
          "metadata": {
            "tags": [],
            "needs_background": "light"
          }
        }
      ]
    }
  ]
}